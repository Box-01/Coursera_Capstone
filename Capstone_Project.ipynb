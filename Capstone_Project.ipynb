{
  "nbformat": 4,
  "nbformat_minor": 0,
  "metadata": {
    "colab": {
      "name": "Capstone Project.ipynb",
      "provenance": [],
      "authorship_tag": "ABX9TyN891RLbYIUz0OyMWFHUqH6",
      "include_colab_link": true
    },
    "kernelspec": {
      "name": "python3",
      "display_name": "Python 3"
    }
  },
  "cells": [
    {
      "cell_type": "markdown",
      "metadata": {
        "id": "view-in-github",
        "colab_type": "text"
      },
      "source": [
        "<a href=\"https://colab.research.google.com/github/Box-01/Coursera_Capstone/blob/master/Capstone_Project.ipynb\" target=\"_parent\"><img src=\"https://colab.research.google.com/assets/colab-badge.svg\" alt=\"Open In Colab\"/></a>"
      ]
    },
    {
      "cell_type": "markdown",
      "metadata": {
        "id": "r85pNB8ZoJjI",
        "colab_type": "text"
      },
      "source": [
        "<h1 align=\"center\"><font size=\"5\">Capstone Project</font></h1>\n"
      ]
    },
    {
      "cell_type": "markdown",
      "metadata": {
        "id": "mDVaTb8Uodo3",
        "colab_type": "text"
      },
      "source": [
        "This notebook will be used for the Coursera Capstone Project. This project is part of the **Applied Data Science Capstone Course** of IBM Data Science Certificate."
      ]
    },
    {
      "cell_type": "markdown",
      "metadata": {
        "id": "rR_cch3qo8zG",
        "colab_type": "text"
      },
      "source": [
        "# Set-UP"
      ]
    },
    {
      "cell_type": "code",
      "metadata": {
        "id": "x-mDGohPoGT9",
        "colab_type": "code",
        "colab": {}
      },
      "source": [
        "import pandas as pd\n",
        "import numpy as np"
      ],
      "execution_count": 0,
      "outputs": []
    },
    {
      "cell_type": "code",
      "metadata": {
        "id": "k6iox-LVo6iF",
        "colab_type": "code",
        "colab": {
          "base_uri": "https://localhost:8080/",
          "height": 34
        },
        "outputId": "ec95d898-3263-49cc-fa12-718a3acb70ab"
      },
      "source": [
        "print(\"Hello Capstone Project Course!\")"
      ],
      "execution_count": 2,
      "outputs": [
        {
          "output_type": "stream",
          "text": [
            "Hello Capstone Project Course!\n"
          ],
          "name": "stdout"
        }
      ]
    },
    {
      "cell_type": "code",
      "metadata": {
        "id": "UCyszWkepCkl",
        "colab_type": "code",
        "colab": {}
      },
      "source": [
        ""
      ],
      "execution_count": 0,
      "outputs": []
    }
  ]
}